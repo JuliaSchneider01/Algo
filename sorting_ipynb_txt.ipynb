{
  "cells": [
    {
      "cell_type": "markdown",
      "metadata": {
        "colab_type": "text",
        "id": "view-in-github"
      },
      "source": [
        "<a href=\"https://colab.research.google.com/github/JuliaSchneider01/Algo/blob/main/sorting_ipynb_txt.ipynb\" target=\"_parent\"><img src=\"https://colab.research.google.com/assets/colab-badge.svg\" alt=\"Open In Colab\"/></a>"
      ]
    },
    {
      "cell_type": "markdown",
      "metadata": {
        "id": "l_8QF4LIIkZz"
      },
      "source": [
        "# Notebook zu Blatt 8"
      ]
    },
    {
      "cell_type": "code",
      "execution_count": null,
      "metadata": {
        "id": "SAqH6ubJIkZ4"
      },
      "outputs": [],
      "source": [
        "!pip install numpy seaborn"
      ]
    },
    {
      "cell_type": "code",
      "execution_count": 9,
      "metadata": {
        "id": "J28XYh7gIkZ6"
      },
      "outputs": [],
      "source": [
        "import numpy as np      # um zufällige arrays zu generieren\n",
        "import time             # zur zeitmessung\n",
        "import seaborn as sns   # zum plotten"
      ]
    },
    {
      "cell_type": "markdown",
      "metadata": {
        "id": "geegTgE-IkZ7"
      },
      "source": [
        "####  1. Implementieren Sie Selection Sort und Quicksort in Python"
      ]
    },
    {
      "cell_type": "code",
      "execution_count": 4,
      "metadata": {
        "id": "DD_-VP85IkZ7"
      },
      "outputs": [],
      "source": [
        "\n",
        "def selectionSort(array):\n",
        "\n",
        "    for i in range(len(array)-1):\n",
        "        min = i \n",
        "        for j in range(i+1,len(array)):\n",
        "            if(array[min] > array[j]):\n",
        "                min = j\n",
        "        temp = array[i] \n",
        "        array[i] = array[min]\n",
        "        array[min]=temp\n",
        "    return array\n",
        "\n",
        "\n",
        "    "
      ]
    },
    {
      "cell_type": "code",
      "execution_count": 5,
      "metadata": {
        "id": "dMpwOrY4IkZ8",
        "tags": []
      },
      "outputs": [
        {
          "name": "stdout",
          "output_type": "stream",
          "text": [
            "[1, 5, 7, 8]\n"
          ]
        }
      ],
      "source": [
        "array = [7,5,8,1] \n",
        "selectionSort(array)\n",
        "print(array) # das sortierte array"
      ]
    },
    {
      "cell_type": "code",
      "execution_count": 4,
      "metadata": {
        "id": "a0ZTJWkEIkZ8"
      },
      "outputs": [],
      "source": [
        "def quickSort(array):\n",
        "        if len(array) < 2:\n",
        "        # base case: arrays with 0 or 1 element are already sorted\n",
        "          return array\n",
        "        else:\n",
        "        # recursive case\n",
        "          pivot = array[0]\n",
        "        # sub-array of all the elements less than the pivot\n",
        "        less = [i for i in array[1:] if i <= pivot]\n",
        "        # sub-array of all the elements greater than the pivot\n",
        "        greater = [i for i in array[1:] if i > pivot]\n",
        "\n",
        "        return quickSort(less) + [pivot] + quickSort(greater)"
      ]
    },
    {
      "cell_type": "code",
      "execution_count": null,
      "metadata": {
        "id": "H8xvP4_oIkZ9"
      },
      "outputs": [],
      "source": [
        "array = [7,5,8,1] \n",
        "quickSort(array)\n",
        "print(array) # das sortierte array"
      ]
    },
    {
      "cell_type": "markdown",
      "metadata": {
        "id": "_AtrElQwIkZ9"
      },
      "source": [
        "#### 4. Testen Sie die Korrektheit Ihrer Implementierungen anhand von verschiedenen Testfällen"
      ]
    },
    {
      "cell_type": "code",
      "execution_count": 10,
      "metadata": {
        "colab": {
          "base_uri": "https://localhost:8080/"
        },
        "id": "d-Py_Ua9IkZ-",
        "outputId": "284b72dc-ddde-4613-dd69-be91c798758f"
      },
      "outputs": [
        {
          "name": "stdout",
          "output_type": "stream",
          "text": [
            "[1, 2, 3, 4]\n",
            "[1, 2, 3, 4]\n",
            "[1]\n",
            "[]\n",
            "[-98 -78 -58 -18 -10  33  42  80  85  87]\n",
            "[-10  -9  -9  -8  -7  -7  -5  -4  -4   2   2   6   7   8   9]\n"
          ]
        }
      ],
      "source": [
        "# Hier kommen die Testfälle!\n",
        "#unsorted_array = [10, 5, 2, 3, 7, 5]\n",
        "#sorted_array = quickSort(unsorted_array)\n",
        "\n",
        "#print(sorted_array)  # Output: [2, 3, 5, 5, 7, 10]\n",
        "\n",
        "#selectionSort\n",
        "array1 = [1,2,3,4] \n",
        "selectionSort(array1)\n",
        "print(array1) # das sortierte array\n",
        "array2 = [4,3,2,1] \n",
        "selectionSort(array2)\n",
        "print(array2) # das sortierte array\n",
        "array3 = [1] \n",
        "selectionSort(array3)\n",
        "print(array3) # das sortierte array\n",
        "array4 = [] \n",
        "selectionSort(array4)\n",
        "print(array4) # das sortierte array\n",
        "array5 = np.random.randint(low=-100, high=100, size=10) \n",
        "selectionSort(array5)\n",
        "print(array5) # das sortierte array\n",
        "array6 = np.random.randint(low=-10, high=10, size=15) \n",
        "selectionSort(array6)\n",
        "print(array6) # das sortierte array\n"
      ]
    },
    {
      "cell_type": "markdown",
      "metadata": {
        "id": "iKXozU-uIkZ_"
      },
      "source": [
        "#### 5. Messen Sie die Laufzeit der beiden Sortieralgorithmen auf Ihrem Rechner."
      ]
    },
    {
      "cell_type": "code",
      "execution_count": 7,
      "metadata": {
        "id": "JRYs7VT6IkZ_",
        "tags": []
      },
      "outputs": [
        {
          "ename": "NameError",
          "evalue": "name 'np' is not defined",
          "output_type": "error",
          "traceback": [
            "\u001b[1;31m---------------------------------------------------------------------------\u001b[0m",
            "\u001b[1;31mNameError\u001b[0m                                 Traceback (most recent call last)",
            "\u001b[1;32m~\\AppData\\Local\\Temp\\ipykernel_16068\\3892398333.py\u001b[0m in \u001b[0;36m<module>\u001b[1;34m\u001b[0m\n\u001b[0;32m      3\u001b[0m \u001b[1;32mfor\u001b[0m \u001b[0msize\u001b[0m \u001b[1;32min\u001b[0m \u001b[0marrar_sizes\u001b[0m\u001b[1;33m:\u001b[0m\u001b[1;33m\u001b[0m\u001b[1;33m\u001b[0m\u001b[0m\n\u001b[0;32m      4\u001b[0m     \u001b[1;31m# ziehe ein zufälliges array\u001b[0m\u001b[1;33m\u001b[0m\u001b[1;33m\u001b[0m\u001b[0m\n\u001b[1;32m----> 5\u001b[1;33m     \u001b[0mnp\u001b[0m\u001b[1;33m.\u001b[0m\u001b[0mrandom\u001b[0m\u001b[1;33m.\u001b[0m\u001b[0mseed\u001b[0m\u001b[1;33m(\u001b[0m\u001b[1;36m0\u001b[0m\u001b[1;33m)\u001b[0m\u001b[1;33m\u001b[0m\u001b[1;33m\u001b[0m\u001b[0m\n\u001b[0m\u001b[0;32m      6\u001b[0m     \u001b[0marray\u001b[0m \u001b[1;33m=\u001b[0m \u001b[0mnp\u001b[0m\u001b[1;33m.\u001b[0m\u001b[0mrandom\u001b[0m\u001b[1;33m.\u001b[0m\u001b[0mrandint\u001b[0m\u001b[1;33m(\u001b[0m\u001b[0mlow\u001b[0m\u001b[1;33m=\u001b[0m\u001b[1;36m0\u001b[0m\u001b[1;33m,\u001b[0m \u001b[0mhigh\u001b[0m\u001b[1;33m=\u001b[0m\u001b[1;36m1000000\u001b[0m\u001b[1;33m,\u001b[0m \u001b[0msize\u001b[0m\u001b[1;33m=\u001b[0m\u001b[0msize\u001b[0m\u001b[1;33m)\u001b[0m\u001b[1;33m\u001b[0m\u001b[1;33m\u001b[0m\u001b[0m\n\u001b[0;32m      7\u001b[0m     \u001b[0mstart\u001b[0m \u001b[1;33m=\u001b[0m \u001b[0mtime\u001b[0m\u001b[1;33m.\u001b[0m\u001b[0mtime\u001b[0m\u001b[1;33m(\u001b[0m\u001b[1;33m)\u001b[0m\u001b[1;33m\u001b[0m\u001b[1;33m\u001b[0m\u001b[0m\n",
            "\u001b[1;31mNameError\u001b[0m: name 'np' is not defined"
          ]
        }
      ],
      "source": [
        "s_times, q_times = [], []\n",
        "arrar_sizes =  [10, 100, 500, 1000, 1500, 2000, 2500, 3000, 5000, 7500, 10000] # messung für verschiedenen array-längen\n",
        "for size in arrar_sizes:\n",
        "    # ziehe ein zufälliges array\n",
        "    np.random.seed(0)\n",
        "    array = np.random.randint(low=0, high=1000000, size=size) \n",
        "    start = time.time()\n",
        "    # hier sortieren mit selection sort - wie geht das?\n",
        "    end = time.time()\n",
        "    s_times.append(end-start) # die zeit in sekunden\n",
        "\n",
        "    # und dann jetzt noch für quicksort :)"
      ]
    },
    {
      "cell_type": "markdown",
      "metadata": {
        "id": "4IqWbr-AIkaA"
      },
      "source": [
        "#### 6. Erstellen Sie einen geeignent Plot, der die Laufzeit der beiden Algorithmen in Abhängigkeit von der Eingabelänge darstellt"
      ]
    },
    {
      "cell_type": "code",
      "execution_count": null,
      "metadata": {
        "id": "lhpc8BbeIkaA"
      },
      "outputs": [],
      "source": [
        "# Hier kommet der Plot!"
      ]
    },
    {
      "cell_type": "markdown",
      "metadata": {
        "id": "NTqMk27WIkaA",
        "tags": []
      },
      "source": [
        "#### 7. Erstellen Sie für die beiden Sortieralgorithmen jeweils einen Plot, in dem gemessene Laufzeit durch die entsprechende asymptotische Laufzeitentwicklung approximiert wird."
      ]
    },
    {
      "cell_type": "code",
      "execution_count": null,
      "metadata": {
        "id": "3QkNCGELIkaB"
      },
      "outputs": [],
      "source": [
        "# Hier kommen die Plots!"
      ]
    },
    {
      "cell_type": "markdown",
      "metadata": {
        "id": "qtHWXQ5bIkaB"
      },
      "source": [
        "#### 8. Vergleichen Sie die Laufzeit ihrer effizienten Implementierungen mit der Laufzeit der nativen sort() Funktion für Listen in Python"
      ]
    },
    {
      "cell_type": "code",
      "execution_count": null,
      "metadata": {
        "id": "jQJTZbCkIkaB"
      },
      "outputs": [],
      "source": [
        "# Hier kommt eure Laufzeitanalyse!"
      ]
    }
  ],
  "metadata": {
    "colab": {
      "include_colab_link": true,
      "provenance": []
    },
    "kernelspec": {
      "display_name": "base",
      "language": "python",
      "name": "python3"
    },
    "language_info": {
      "codemirror_mode": {
        "name": "ipython",
        "version": 3
      },
      "file_extension": ".py",
      "mimetype": "text/x-python",
      "name": "python",
      "nbconvert_exporter": "python",
      "pygments_lexer": "ipython3",
      "version": "3.9.13"
    },
    "vscode": {
      "interpreter": {
        "hash": "941bf65543bea9aab2c902313140943db015e0234de91c1768c9525aa1d59a8e"
      }
    }
  },
  "nbformat": 4,
  "nbformat_minor": 0
}
