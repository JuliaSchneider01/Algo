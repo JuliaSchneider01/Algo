{
  "cells": [
    {
      "cell_type": "markdown",
      "metadata": {
        "id": "view-in-github",
        "colab_type": "text"
      },
      "source": [
        "<a href=\"https://colab.research.google.com/github/JuliaSchneider01/Algo/blob/main/sorting_ipynb_txt.ipynb\" target=\"_parent\"><img src=\"https://colab.research.google.com/assets/colab-badge.svg\" alt=\"Open In Colab\"/></a>"
      ]
    },
    {
      "cell_type": "markdown",
      "metadata": {
        "id": "l_8QF4LIIkZz"
      },
      "source": [
        "# Notebook zu Blatt 8"
      ]
    },
    {
      "cell_type": "code",
      "execution_count": null,
      "metadata": {
        "id": "SAqH6ubJIkZ4"
      },
      "outputs": [],
      "source": [
        "!pip install numpy seaborn"
      ]
    },
    {
      "cell_type": "code",
      "execution_count": 1,
      "metadata": {
        "id": "J28XYh7gIkZ6"
      },
      "outputs": [],
      "source": [
        "import numpy as np      # um zufällige arrays zu generieren\n",
        "import time             # zur zeitmessung\n",
        "import seaborn as sns   # zum plotten"
      ]
    },
    {
      "cell_type": "markdown",
      "metadata": {
        "id": "geegTgE-IkZ7"
      },
      "source": [
        "####  1. Implementieren Sie Selection Sort und Quicksort in Python"
      ]
    },
    {
      "cell_type": "code",
      "execution_count": null,
      "metadata": {
        "id": "DD_-VP85IkZ7"
      },
      "outputs": [],
      "source": [
        "def selectionSort(array):\n",
        "    pass # hier Eure Implementierung :)"
      ]
    },
    {
      "cell_type": "code",
      "execution_count": null,
      "metadata": {
        "tags": [],
        "id": "dMpwOrY4IkZ8"
      },
      "outputs": [],
      "source": [
        "array = [7,5,8,1] \n",
        "selectionSort(array)\n",
        "print(array) # das sortierte array"
      ]
    },
    {
      "cell_type": "code",
      "execution_count": 4,
      "metadata": {
        "id": "a0ZTJWkEIkZ8"
      },
      "outputs": [],
      "source": [
        "def quickSort(array):\n",
        "        if len(array) < 2:\n",
        "        # base case: arrays with 0 or 1 element are already sorted\n",
        "          return array\n",
        "        else:\n",
        "        # recursive case\n",
        "          pivot = array[0]\n",
        "        # sub-array of all the elements less than the pivot\n",
        "        less = [i for i in array[1:] if i <= pivot]\n",
        "        # sub-array of all the elements greater than the pivot\n",
        "        greater = [i for i in array[1:] if i > pivot]\n",
        "\n",
        "        return quickSort(less) + [pivot] + quickSort(greater)"
      ]
    },
    {
      "cell_type": "code",
      "execution_count": null,
      "metadata": {
        "id": "H8xvP4_oIkZ9"
      },
      "outputs": [],
      "source": [
        "array = [7,5,8,1] \n",
        "quickSort(array)\n",
        "print(array) # das sortierte array"
      ]
    },
    {
      "cell_type": "markdown",
      "metadata": {
        "id": "_AtrElQwIkZ9"
      },
      "source": [
        "#### 4. Testen Sie die Korrektheit Ihrer Implementierungen anhand von verschiedenen Testfällen"
      ]
    },
    {
      "cell_type": "code",
      "execution_count": 5,
      "metadata": {
        "colab": {
          "base_uri": "https://localhost:8080/"
        },
        "id": "d-Py_Ua9IkZ-",
        "outputId": "284b72dc-ddde-4613-dd69-be91c798758f"
      },
      "outputs": [
        {
          "output_type": "stream",
          "name": "stdout",
          "text": [
            "[2, 3, 5, 5, 7, 10]\n"
          ]
        }
      ],
      "source": [
        "# Hier kommen die Testfälle!\n",
        "unsorted_array = [10, 5, 2, 3, 7, 5]\n",
        "sorted_array = quickSort(unsorted_array)\n",
        "\n",
        "print(sorted_array)  # Output: [2, 3, 5, 5, 7, 10]"
      ]
    },
    {
      "cell_type": "markdown",
      "metadata": {
        "id": "iKXozU-uIkZ_"
      },
      "source": [
        "#### 5. Messen Sie die Laufzeit der beiden Sortieralgorithmen auf Ihrem Rechner."
      ]
    },
    {
      "cell_type": "code",
      "execution_count": null,
      "metadata": {
        "tags": [],
        "id": "JRYs7VT6IkZ_"
      },
      "outputs": [],
      "source": [
        "s_times, q_times = [], []\n",
        "arrar_sizes =  [10, 100, 500, 1000, 1500, 2000, 2500, 3000, 5000, 7500, 10000] # messung für verschiedenen array-längen\n",
        "for size in arrar_sizes:\n",
        "    # ziehe ein zufälliges array\n",
        "    np.random.seed(0)\n",
        "    array = np.random.randint(low=0, high=1000000, size=size) \n",
        "    start = time.time()\n",
        "    # hier sortieren mit selection sort - wie geht das?\n",
        "    end = time.time()\n",
        "    s_times.append(end-start) # die zeit in sekunden\n",
        "\n",
        "    # und dann jetzt noch für quicksort :)"
      ]
    },
    {
      "cell_type": "markdown",
      "metadata": {
        "id": "4IqWbr-AIkaA"
      },
      "source": [
        "#### 6. Erstellen Sie einen geeignent Plot, der die Laufzeit der beiden Algorithmen in Abhängigkeit von der Eingabelänge darstellt"
      ]
    },
    {
      "cell_type": "code",
      "execution_count": null,
      "metadata": {
        "id": "lhpc8BbeIkaA"
      },
      "outputs": [],
      "source": [
        "# Hier kommet der Plot!"
      ]
    },
    {
      "cell_type": "markdown",
      "metadata": {
        "tags": [],
        "id": "NTqMk27WIkaA"
      },
      "source": [
        "#### 7. Erstellen Sie für die beiden Sortieralgorithmen jeweils einen Plot, in dem gemessene Laufzeit durch die entsprechende asymptotische Laufzeitentwicklung approximiert wird."
      ]
    },
    {
      "cell_type": "code",
      "execution_count": null,
      "metadata": {
        "id": "3QkNCGELIkaB"
      },
      "outputs": [],
      "source": [
        "# Hier kommen die Plots!"
      ]
    },
    {
      "cell_type": "markdown",
      "metadata": {
        "id": "qtHWXQ5bIkaB"
      },
      "source": [
        "#### 8. Vergleichen Sie die Laufzeit ihrer effizienten Implementierungen mit der Laufzeit der nativen sort() Funktion für Listen in Python"
      ]
    },
    {
      "cell_type": "code",
      "execution_count": null,
      "metadata": {
        "id": "jQJTZbCkIkaB"
      },
      "outputs": [],
      "source": [
        "# Hier kommt eure Laufzeitanalyse!"
      ]
    }
  ],
  "metadata": {
    "kernelspec": {
      "display_name": "Python 3 (ipykernel)",
      "language": "python",
      "name": "python3"
    },
    "language_info": {
      "codemirror_mode": {
        "name": "ipython",
        "version": 3
      },
      "file_extension": ".py",
      "mimetype": "text/x-python",
      "name": "python",
      "nbconvert_exporter": "python",
      "pygments_lexer": "ipython3",
      "version": "3.9.12"
    },
    "colab": {
      "provenance": [],
      "include_colab_link": true
    }
  },
  "nbformat": 4,
  "nbformat_minor": 0
}