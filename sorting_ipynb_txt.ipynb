{
  "cells": [
    {
      "cell_type": "markdown",
      "metadata": {
        "id": "view-in-github",
        "colab_type": "text"
      },
      "source": [
        "<a href=\"https://colab.research.google.com/github/JuliaSchneider01/Algo/blob/main/sorting_ipynb_txt.ipynb\" target=\"_parent\"><img src=\"https://colab.research.google.com/assets/colab-badge.svg\" alt=\"Open In Colab\"/></a>"
      ]
    },
    {
      "cell_type": "markdown",
      "metadata": {
        "id": "l_8QF4LIIkZz"
      },
      "source": [
        "# Notebook zu Blatt 8"
      ]
    },
    {
      "cell_type": "code",
      "execution_count": 8,
      "metadata": {
        "id": "SAqH6ubJIkZ4",
        "colab": {
          "base_uri": "https://localhost:8080/"
        },
        "outputId": "595bd0e2-4698-4a07-890c-51a94c672211"
      },
      "outputs": [
        {
          "output_type": "stream",
          "name": "stdout",
          "text": [
            "Looking in indexes: https://pypi.org/simple, https://us-python.pkg.dev/colab-wheels/public/simple/\n",
            "Requirement already satisfied: numpy in /usr/local/lib/python3.8/dist-packages (1.21.6)\n",
            "Requirement already satisfied: seaborn in /usr/local/lib/python3.8/dist-packages (0.11.2)\n",
            "Requirement already satisfied: pandas>=0.23 in /usr/local/lib/python3.8/dist-packages (from seaborn) (1.3.5)\n",
            "Requirement already satisfied: matplotlib>=2.2 in /usr/local/lib/python3.8/dist-packages (from seaborn) (3.2.2)\n",
            "Requirement already satisfied: scipy>=1.0 in /usr/local/lib/python3.8/dist-packages (from seaborn) (1.7.3)\n",
            "Requirement already satisfied: python-dateutil>=2.1 in /usr/local/lib/python3.8/dist-packages (from matplotlib>=2.2->seaborn) (2.8.2)\n",
            "Requirement already satisfied: cycler>=0.10 in /usr/local/lib/python3.8/dist-packages (from matplotlib>=2.2->seaborn) (0.11.0)\n",
            "Requirement already satisfied: pyparsing!=2.0.4,!=2.1.2,!=2.1.6,>=2.0.1 in /usr/local/lib/python3.8/dist-packages (from matplotlib>=2.2->seaborn) (3.0.9)\n",
            "Requirement already satisfied: kiwisolver>=1.0.1 in /usr/local/lib/python3.8/dist-packages (from matplotlib>=2.2->seaborn) (1.4.4)\n",
            "Requirement already satisfied: pytz>=2017.3 in /usr/local/lib/python3.8/dist-packages (from pandas>=0.23->seaborn) (2022.6)\n",
            "Requirement already satisfied: six>=1.5 in /usr/local/lib/python3.8/dist-packages (from python-dateutil>=2.1->matplotlib>=2.2->seaborn) (1.15.0)\n"
          ]
        }
      ],
      "source": [
        "!pip install numpy seaborn"
      ]
    },
    {
      "cell_type": "code",
      "execution_count": 7,
      "metadata": {
        "id": "J28XYh7gIkZ6"
      },
      "outputs": [],
      "source": [
        "import numpy as np      # um zufällige arrays zu generieren\n",
        "import time             # zur zeitmessung\n",
        "import seaborn as sns   # zum plotten"
      ]
    },
    {
      "cell_type": "markdown",
      "metadata": {
        "id": "geegTgE-IkZ7"
      },
      "source": [
        "####  1. Implementieren Sie Selection Sort und Quicksort in Python"
      ]
    },
    {
      "cell_type": "code",
      "execution_count": 2,
      "metadata": {
        "id": "DD_-VP85IkZ7"
      },
      "outputs": [],
      "source": [
        "def selectionSort(array):\n",
        "    # Iterate through the list\n",
        "    for i in range(len(array)):\n",
        "        # Find the minimum element in the unsorted sublist\n",
        "        min_index = i\n",
        "        for j in range(i+1, len(array)):\n",
        "            if array[min_index] > array[j]:\n",
        "                min_index = j\n",
        "        # Swap the minimum element with the first element of the unsorted sublist\n",
        "        array[i], array[min_index] = array[min_index], array[i]\n",
        "    return array\n",
        "    #Aufgabe3  Die Worst-Case-Eingabe ist eine Liste, die bereits in absteigender Reihenfolge sortiert ist. \n",
        "    #Es müsste jedes Element mit jedem anderen Element in der Liste verglichen werden, um das Minimum zu finden."
      ]
    },
    {
      "cell_type": "code",
      "execution_count": 3,
      "metadata": {
        "tags": [],
        "id": "dMpwOrY4IkZ8",
        "colab": {
          "base_uri": "https://localhost:8080/"
        },
        "outputId": "12748561-da4b-40c9-eac0-15d1c5370f8c"
      },
      "outputs": [
        {
          "output_type": "stream",
          "name": "stdout",
          "text": [
            "[1, 5, 7, 8]\n"
          ]
        }
      ],
      "source": [
        "array = [7,5,8,1] \n",
        "print(selectionSort(array)) # das sortierte array"
      ]
    },
    {
      "cell_type": "code",
      "execution_count": 4,
      "metadata": {
        "id": "a0ZTJWkEIkZ8"
      },
      "outputs": [],
      "source": [
        "def quickSort(array):\n",
        "    if len(array) <= 1:\n",
        "        return array\n",
        "    pivot = array[len(array) // 2]\n",
        "    left = [x for x in array if x < pivot]\n",
        "    middle = [x for x in array if x == pivot]\n",
        "    right = [x for x in array if x > pivot]\n",
        "    return quickSort(left) + middle + quickSort(right)\n",
        "    #Aufgabe2 das mittlere Element des Arrays wird als Pivot-Element gewählt\n",
        "    #Aufgabe3 Die Worst-Case-Eingabe ist eine Liste, die bereits sortiert ist.\n",
        "    # Jedes Element in der Liste wird n-1 Mal aufgerufen."
      ]
    },
    {
      "cell_type": "code",
      "execution_count": 5,
      "metadata": {
        "id": "H8xvP4_oIkZ9",
        "colab": {
          "base_uri": "https://localhost:8080/"
        },
        "outputId": "d48259d9-2726-46fa-c272-93c8a25a36a3"
      },
      "outputs": [
        {
          "output_type": "stream",
          "name": "stdout",
          "text": [
            "[1, 2, 3, 5, 7, 9]\n"
          ]
        }
      ],
      "source": [
        "array = [5, 2, 9, 1, 7, 3]\n",
        "sortedArray = quickSort(array)\n",
        "print(sortedArray)  # [1, 2, 3, 5, 7, 9]"
      ]
    },
    {
      "cell_type": "markdown",
      "metadata": {
        "id": "_AtrElQwIkZ9"
      },
      "source": [
        "#### 4. Testen Sie die Korrektheit Ihrer Implementierungen anhand von verschiedenen Testfällen"
      ]
    },
    {
      "cell_type": "code",
      "execution_count": 10,
      "metadata": {
        "colab": {
          "base_uri": "https://localhost:8080/"
        },
        "id": "d-Py_Ua9IkZ-",
        "outputId": "43a1e309-c74b-478a-8357-b8c36bcc0e63"
      },
      "outputs": [
        {
          "output_type": "stream",
          "name": "stdout",
          "text": [
            "[1, 2, 3, 4]\n",
            "[1, 2, 3, 4]\n",
            "[1]\n",
            "[]\n",
            "[-86, -55, -52, -48, -12, 3, 28, 42, 59, 72]\n",
            "[1, 2, 3, 4]\n",
            "[1, 2, 3, 4]\n",
            "[1]\n",
            "[]\n",
            "[-38 -36  24  42  45  48  54  58  70  79]\n"
          ]
        }
      ],
      "source": [
        "# Hier kommen die Testfälle!\n",
        "#quickSort\n",
        "array1 = [1,2,3,4] \n",
        "print(quickSort(array1)) # das sortierte array\n",
        "array2 = [4,3,2,1] \n",
        "print(quickSort(array2))# das sortierte array\n",
        "array3 = [1] \n",
        "print(quickSort(array3))# das sortierte array\n",
        "array4 = [] \n",
        "print(quickSort(array4))# das sortierte array\n",
        "array5 = np.random.randint(low=-100, high=100, size=10) \n",
        "print(quickSort(array5)) #das sortierte Array\n",
        "\n",
        "#selectionSort\n",
        "array1 = [1,2,3,4] \n",
        "selectionSort(array1)\n",
        "print(array1) # das sortierte array\n",
        "array2 = [4,3,2,1] \n",
        "selectionSort(array2)\n",
        "print(array2) # das sortierte array\n",
        "array3 = [1] \n",
        "selectionSort(array3)\n",
        "print(array3) # das sortierte array\n",
        "array4 = [] \n",
        "selectionSort(array4)\n",
        "print(array4) # das sortierte array\n",
        "array5 = np.random.randint(low=-100, high=100, size=10) \n",
        "print(selectionSort(array5)) #das sortierte Array\n",
        "\n",
        "#Die Testfälle decken alle möglichen Fälle ab.\n",
        "#Es wurde ein aufsteigendes und absteigendes Array getestet, also die worst case Fälle.\n",
        "#Außerdem wurden noch die Fälle abgedeckt, falls ein Array nur ein Element besitzt oder leer ist, also wenn nichts sortiert werden muss.\n",
        "#Mit einem random generierten Array werden noch die negativen Zahlen abgedeckt."
      ]
    },
    {
      "cell_type": "markdown",
      "metadata": {
        "id": "iKXozU-uIkZ_"
      },
      "source": [
        "#### 5. Messen Sie die Laufzeit der beiden Sortieralgorithmen auf Ihrem Rechner."
      ]
    },
    {
      "cell_type": "code",
      "execution_count": 35,
      "metadata": {
        "tags": [],
        "id": "JRYs7VT6IkZ_"
      },
      "outputs": [],
      "source": [
        "from numpy.core.arrayprint import array2string\n",
        "s_times, q_times = [], []\n",
        "arrar_sizes =  [10, 100, 500, 1000, 1500, 2000, 2500, 3000, 5000, 7500, 10000] # messung für verschiedenen array-längen\n",
        "for size in arrar_sizes:\n",
        "    # ziehe ein zufälliges array\n",
        "    np.random.seed(0)\n",
        "    array = np.random.randint(low=0, high=1000000, size=size) \n",
        "    start = time.time()\n",
        "    # hier sortieren mit selection sort - wie geht das?\n",
        "    sorted_array = selectionSort(array)\n",
        "    end = time.time()\n",
        "    # Calculate the time taken to sort the array\n",
        "    s_time = end - start\n",
        "    s_times.append(s_time) # die zeit in sekunden\n",
        "    # Sort the array using quicksort and measure the time taken\n",
        "    start = time.time()\n",
        "    sorted_array = quickSort(array)\n",
        "    end = time.time()\n",
        "    q_time = end - start\n",
        "    q_times.append(q_time)\n",
        "\n",
        "    \n",
        "  "
      ]
    },
    {
      "cell_type": "markdown",
      "metadata": {
        "id": "4IqWbr-AIkaA"
      },
      "source": [
        "#### 6. Erstellen Sie einen geeignent Plot, der die Laufzeit der beiden Algorithmen in Abhängigkeit von der Eingabelänge darstellt"
      ]
    },
    {
      "cell_type": "code",
      "source": [
        "import matplotlib.pyplot as plt\n",
        "\n",
        "# Plot the running times for selection sort and quicksort\n",
        "plt.plot(arrar_sizes, s_times, label=\"Selection sort\")\n",
        "plt.plot(arrar_sizes, q_times, label=\"Quicksort\")\n",
        "\n",
        "# Add axis labels and a title\n",
        "plt.xlabel(\"Input size\")\n",
        "plt.ylabel(\"Running time (seconds)\")\n",
        "plt.title(\"Running time of sorting algorithms\")\n",
        "\n",
        "# Add a legend\n",
        "plt.legend()\n",
        "\n",
        "# Show the plot\n",
        "plt.show()\n",
        "\n",
        "#Der Unterschied in der asymptotischen Laufzeit macht bei einer Eingabenlänge von ca. 500 bemerkbar.\n",
        "#Ab da trennen sich die Kurven. Da Quicksort nur Nanosekunden benötigt, erscheint die Kurve als eine Gerade im Y-Abschnitt 0."
      ],
      "metadata": {
        "colab": {
          "base_uri": "https://localhost:8080/",
          "height": 295
        },
        "id": "J1xr5zwNI42Y",
        "outputId": "124e06a4-6bb0-4f61-9e0b-9f47c9f5653d"
      },
      "execution_count": 36,
      "outputs": [
        {
          "output_type": "display_data",
          "data": {
            "text/plain": [
              "<Figure size 432x288 with 1 Axes>"
            ],
            "image/png": "[encoded data removed]"
          },
          "metadata": {
            "needs_background": "light"
          }
        }
      ]
    },
    {
      "cell_type": "markdown",
      "metadata": {
        "tags": [],
        "id": "NTqMk27WIkaA"
      },
      "source": [
        "#### 7. Erstellen Sie für die beiden Sortieralgorithmen jeweils einen Plot, in dem gemessene Laufzeit durch die entsprechende asymptotische Laufzeitentwicklung approximiert wird."
      ]
    },
    {
      "cell_type": "code",
      "execution_count": null,
      "metadata": {
        "id": "3QkNCGELIkaB",
        "colab": {
          "base_uri": "https://localhost:8080/",
          "height": 330
        },
        "outputId": "7757e2ae-0769-429d-fd8f-2f46ae45bc31"
      },
      "outputs": [
        {
          "output_type": "display_data",
          "data": {
            "text/plain": [
              "<Figure size 432x288 with 1 Axes>"
            ],
            "image/png": "[encoded data removed]"
          },
          "metadata": {
            "needs_background": "light"
          }
        },
        {
          "output_type": "stream",
          "name": "stdout",
          "text": [
            "Selection sort constant (C): 1.3063329966926718e-07\n",
            "Quicksort constant (C): 3.2192954926570855e-07\n"
          ]
        }
      ],
      "source": [
        "# Hier kommen die Plots!\n",
        "# Generate points for the O(n^2) curve\n",
        "n_values = np.array(arrar_sizes)\n",
        "o_n2_values = n_values**2\n",
        "\n",
        "# Generate points for the O(n*log(n)) curve\n",
        "o_nlog_values = n_values*np.log(n_values)\n",
        "\n",
        "# Plot the measured running times and the asymptotic running time curves\n",
        "plt.plot(arrar_sizes, s_times, label=\"Selection sort (measured)\")\n",
        "plt.plot(arrar_sizes, o_n2_values, \"--\", label=\"Selection sort (O(n^2))\")\n",
        "plt.plot(arrar_sizes, q_times, label=\"Quicksort (measured)\")\n",
        "plt.plot(arrar_sizes, o_nlog_values, \"--\", label=\"Quicksort (O(n*log(n)))\")\n",
        "\n",
        "# Add axis labels and a title\n",
        "plt.xlabel(\"Input size\")\n",
        "plt.ylabel(\"Running time (seconds)\")\n",
        "plt.title(\"Running time of sorting algorithms\")\n",
        "\n",
        "# Add a legend\n",
        "plt.legend()\n",
        "\n",
        "# Show the plot\n",
        "plt.show()\n",
        "\n",
        "\n",
        "\n",
        "from scipy.optimize import curve_fit\n",
        "\n",
        "def o_n2(n, C):\n",
        "    return C*n**2\n",
        "\n",
        "def o_nlog(n, C):\n",
        "    return C*n*np.log(n)\n",
        "\n",
        "# Fit an O(n^2) curve to the selection sort running times\n",
        "params, params_covariance = curve_fit(o_n2, arrar_sizes, s_times)\n",
        "print(\"Selection sort constant (C):\", params[0])\n",
        "\n",
        "# Fit an O(n*log(n)) curve to the quicksort running times\n",
        "params, params_covariance = curve_fit(o_nlog, arrar_sizes, q_times)\n",
        "print(\"Quicksort constant (C):\", params[0])"
      ]
    },
    {
      "cell_type": "markdown",
      "metadata": {
        "id": "qtHWXQ5bIkaB"
      },
      "source": [
        "#### 8. Vergleichen Sie die Laufzeit ihrer effizienten Implementierungen mit der Laufzeit der nativen sort() Funktion für Listen in Python"
      ]
    },
    {
      "cell_type": "code",
      "execution_count": null,
      "metadata": {
        "id": "jQJTZbCkIkaB"
      },
      "outputs": [],
      "source": [
        "# Hier kommt eure Laufzeitanalyse!\n"
      ]
    }
  ],
  "metadata": {
    "kernelspec": {
      "display_name": "Python 3 (ipykernel)",
      "language": "python",
      "name": "python3"
    },
    "language_info": {
      "codemirror_mode": {
        "name": "ipython",
        "version": 3
      },
      "file_extension": ".py",
      "mimetype": "text/x-python",
      "name": "python",
      "nbconvert_exporter": "python",
      "pygments_lexer": "ipython3",
      "version": "3.9.12"
    },
    "colab": {
      "provenance": [],
      "include_colab_link": true
    }
  },
  "nbformat": 4,
  "nbformat_minor": 0
}