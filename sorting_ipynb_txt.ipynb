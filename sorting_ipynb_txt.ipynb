{
  "cells": [
    {
      "cell_type": "markdown",
      "metadata": {
        "id": "view-in-github",
        "colab_type": "text"
      },
      "source": [
        "<a href=\"https://colab.research.google.com/github/JuliaSchneider01/Algo/blob/main/sorting_ipynb_txt.ipynb\" target=\"_parent\"><img src=\"https://colab.research.google.com/assets/colab-badge.svg\" alt=\"Open In Colab\"/></a>"
      ]
    },
    {
      "cell_type": "markdown",
      "metadata": {
        "id": "l_8QF4LIIkZz"
      },
      "source": [
        "# Notebook zu Blatt 8"
      ]
    },
    {
      "cell_type": "code",
      "execution_count": 9,
      "metadata": {
        "id": "SAqH6ubJIkZ4",
        "colab": {
          "base_uri": "https://localhost:8080/"
        },
        "outputId": "e1a798c5-4ef4-4d0f-9962-f9790f166047"
      },
      "outputs": [
        {
          "output_type": "stream",
          "name": "stdout",
          "text": [
            "Looking in indexes: https://pypi.org/simple, https://us-python.pkg.dev/colab-wheels/public/simple/\n",
            "Requirement already satisfied: numpy in /usr/local/lib/python3.8/dist-packages (1.21.6)\n",
            "Requirement already satisfied: seaborn in /usr/local/lib/python3.8/dist-packages (0.11.2)\n",
            "Requirement already satisfied: scipy>=1.0 in /usr/local/lib/python3.8/dist-packages (from seaborn) (1.7.3)\n",
            "Requirement already satisfied: matplotlib>=2.2 in /usr/local/lib/python3.8/dist-packages (from seaborn) (3.2.2)\n",
            "Requirement already satisfied: pandas>=0.23 in /usr/local/lib/python3.8/dist-packages (from seaborn) (1.3.5)\n",
            "Requirement already satisfied: python-dateutil>=2.1 in /usr/local/lib/python3.8/dist-packages (from matplotlib>=2.2->seaborn) (2.8.2)\n",
            "Requirement already satisfied: cycler>=0.10 in /usr/local/lib/python3.8/dist-packages (from matplotlib>=2.2->seaborn) (0.11.0)\n",
            "Requirement already satisfied: kiwisolver>=1.0.1 in /usr/local/lib/python3.8/dist-packages (from matplotlib>=2.2->seaborn) (1.4.4)\n",
            "Requirement already satisfied: pyparsing!=2.0.4,!=2.1.2,!=2.1.6,>=2.0.1 in /usr/local/lib/python3.8/dist-packages (from matplotlib>=2.2->seaborn) (3.0.9)\n",
            "Requirement already satisfied: pytz>=2017.3 in /usr/local/lib/python3.8/dist-packages (from pandas>=0.23->seaborn) (2022.6)\n",
            "Requirement already satisfied: six>=1.5 in /usr/local/lib/python3.8/dist-packages (from python-dateutil>=2.1->matplotlib>=2.2->seaborn) (1.15.0)\n"
          ]
        }
      ],
      "source": [
        "!pip install numpy seaborn"
      ]
    },
    {
      "cell_type": "code",
      "execution_count": 10,
      "metadata": {
        "id": "J28XYh7gIkZ6"
      },
      "outputs": [],
      "source": [
        "import numpy as np      # um zufällige arrays zu generieren\n",
        "import time             # zur zeitmessung\n",
        "import seaborn as sns   # zum plotten"
      ]
    },
    {
      "cell_type": "markdown",
      "metadata": {
        "id": "geegTgE-IkZ7"
      },
      "source": [
        "####  1. Implementieren Sie Selection Sort und Quicksort in Python"
      ]
    },
    {
      "cell_type": "code",
      "execution_count": 11,
      "metadata": {
        "id": "DD_-VP85IkZ7"
      },
      "outputs": [],
      "source": [
        "def selectionSort(array):\n",
        "    # Iterate through the list\n",
        "    for i in range(len(array)):\n",
        "        # Find the minimum element in the unsorted sublist\n",
        "        min_index = i\n",
        "        for j in range(i+1, len(array)):\n",
        "            if array[min_index] > array[j]:\n",
        "                min_index = j\n",
        "        # Swap the minimum element with the first element of the unsorted sublist\n",
        "        array[i], array[min_index] = array[min_index], array[i]\n",
        "    return array"
      ]
    },
    {
      "cell_type": "code",
      "execution_count": 7,
      "metadata": {
        "tags": [],
        "id": "dMpwOrY4IkZ8",
        "colab": {
          "base_uri": "https://localhost:8080/"
        },
        "outputId": "e8eeedfb-4160-4112-d0a4-69f56568aa70"
      },
      "outputs": [
        {
          "output_type": "stream",
          "name": "stdout",
          "text": [
            "[1, 5, 8, 7]\n"
          ]
        }
      ],
      "source": [
        "array = [7,5,8,1] \n",
        "selectionSort(array)\n",
        "print(array) # das sortierte array"
      ]
    },
    {
      "cell_type": "code",
      "execution_count": 12,
      "metadata": {
        "id": "a0ZTJWkEIkZ8"
      },
      "outputs": [],
      "source": [
        "def quickSort(array):\n",
        "    if len(array) <= 1:\n",
        "        return array\n",
        "    pivot = array[len(array) // 2]\n",
        "    left = [x for x in array if x < pivot]\n",
        "    middle = [x for x in array if x == pivot]\n",
        "    right = [x for x in array if x > pivot]\n",
        "    return quickSort(left) + middle + quickSort(right)"
      ]
    },
    {
      "cell_type": "code",
      "execution_count": 5,
      "metadata": {
        "id": "H8xvP4_oIkZ9",
        "colab": {
          "base_uri": "https://localhost:8080/"
        },
        "outputId": "59d459d2-f5af-4434-8c24-1886f1d45aa0"
      },
      "outputs": [
        {
          "output_type": "stream",
          "name": "stdout",
          "text": [
            "[7, 5, 8, 1]\n"
          ]
        }
      ],
      "source": [
        "array = [7,5,8,1] \n",
        "quickSort(array)\n",
        "print(array) # das sortierte array"
      ]
    },
    {
      "cell_type": "markdown",
      "metadata": {
        "id": "_AtrElQwIkZ9"
      },
      "source": [
        "#### 4. Testen Sie die Korrektheit Ihrer Implementierungen anhand von verschiedenen Testfällen"
      ]
    },
    {
      "cell_type": "code",
      "execution_count": 13,
      "metadata": {
        "colab": {
          "base_uri": "https://localhost:8080/"
        },
        "id": "d-Py_Ua9IkZ-",
        "outputId": "b7278ba4-16c7-4f89-bfa2-a51d63ff71b0"
      },
      "outputs": [
        {
          "output_type": "stream",
          "name": "stdout",
          "text": [
            "[1, 2, 3, 4]\n",
            "[4, 3, 2, 1]\n",
            "[1]\n",
            "[]\n",
            "[1, 2, 3, 4]\n",
            "[1, 2, 3, 4]\n",
            "[1]\n",
            "[]\n"
          ]
        }
      ],
      "source": [
        "# Hier kommen die Testfälle!\n",
        "#quickSort\n",
        "#selectionSort\n",
        "array1 = [1,2,3,4] \n",
        "quickSort(array1)\n",
        "print(array1) # das sortierte array\n",
        "array2 = [4,3,2,1] \n",
        "quickSort(array2)\n",
        "print(array2) # das sortierte array\n",
        "array3 = [1] \n",
        "quickSort(array3)\n",
        "print(array3) # das sortierte array\n",
        "array4 = [] \n",
        "quickSort(array4)\n",
        "print(array4) # das sortierte array\n",
        "\n",
        "#selectionSort\n",
        "array1 = [1,2,3,4] \n",
        "selectionSort(array1)\n",
        "print(array1) # das sortierte array\n",
        "array2 = [4,3,2,1] \n",
        "selectionSort(array2)\n",
        "print(array2) # das sortierte array\n",
        "array3 = [1] \n",
        "selectionSort(array3)\n",
        "print(array3) # das sortierte array\n",
        "array4 = [] \n",
        "selectionSort(array4)\n",
        "print(array4) # das sortierte array"
      ]
    },
    {
      "cell_type": "markdown",
      "metadata": {
        "id": "iKXozU-uIkZ_"
      },
      "source": [
        "#### 5. Messen Sie die Laufzeit der beiden Sortieralgorithmen auf Ihrem Rechner."
      ]
    },
    {
      "cell_type": "code",
      "execution_count": 14,
      "metadata": {
        "tags": [],
        "id": "JRYs7VT6IkZ_"
      },
      "outputs": [],
      "source": [
        "from numpy.core.arrayprint import array2string\n",
        "s_times, q_times = [], []\n",
        "arrar_sizes =  [10, 100, 500, 1000, 1500, 2000, 2500, 3000, 5000, 7500, 10000] # messung für verschiedenen array-längen\n",
        "for size in arrar_sizes:\n",
        "    # ziehe ein zufälliges array\n",
        "    np.random.seed(0)\n",
        "    array = np.random.randint(low=0, high=1000000, size=size) \n",
        "    start = time.time()\n",
        "    # hier sortieren mit selection sort - wie geht das?\n",
        "    sorted_array = selectionSort(array)\n",
        "    end = time.time()\n",
        "    # Calculate the time taken to sort the array\n",
        "    s_time = end - start\n",
        "    s_times.append(s_time) # die zeit in sekunden\n",
        "    # Sort the array using quicksort and measure the time taken\n",
        "    start = time.time()\n",
        "    sorted_array = quickSort(array)\n",
        "    end = time.time()\n",
        "    q_time = end - start\n",
        "    q_times.append(q_time)\n",
        "\n",
        "    \n",
        "  "
      ]
    },
    {
      "cell_type": "markdown",
      "metadata": {
        "id": "4IqWbr-AIkaA"
      },
      "source": [
        "#### 6. Erstellen Sie einen geeignent Plot, der die Laufzeit der beiden Algorithmen in Abhängigkeit von der Eingabelänge darstellt"
      ]
    },
    {
      "cell_type": "code",
      "source": [
        "import matplotlib.pyplot as plt\n",
        "\n",
        "# Plot the running times for selection sort and quicksort\n",
        "plt.plot(arrar_sizes, s_times, label=\"Selection sort\")\n",
        "plt.plot(arrar_sizes, q_times, label=\"Quicksort\")\n",
        "\n",
        "# Add axis labels and a title\n",
        "plt.xlabel(\"Input size\")\n",
        "plt.ylabel(\"Running time (seconds)\")\n",
        "plt.title(\"Running time of sorting algorithms\")\n",
        "\n",
        "# Add a legend\n",
        "plt.legend()\n",
        "\n",
        "# Show the plot\n",
        "plt.show()"
      ],
      "metadata": {
        "colab": {
          "base_uri": "https://localhost:8080/",
          "height": 295
        },
        "id": "J1xr5zwNI42Y",
        "outputId": "158c10ba-2c8b-4a30-f50b-4d3c0f4eb7cb"
      },
      "execution_count": 15,
      "outputs": [
        {
          "output_type": "display_data",
          "data": {
            "text/plain": [
              "<Figure size 432x288 with 1 Axes>"
            ],
            "image/png": "[encoded data removed]"
          },
          "metadata": {
            "needs_background": "light"
          }
        }
      ]
    },
    {
      "cell_type": "markdown",
      "metadata": {
        "tags": [],
        "id": "NTqMk27WIkaA"
      },
      "source": [
        "#### 7. Erstellen Sie für die beiden Sortieralgorithmen jeweils einen Plot, in dem gemessene Laufzeit durch die entsprechende asymptotische Laufzeitentwicklung approximiert wird."
      ]
    },
    {
      "cell_type": "code",
      "execution_count": 16,
      "metadata": {
        "id": "3QkNCGELIkaB",
        "colab": {
          "base_uri": "https://localhost:8080/",
          "height": 330
        },
        "outputId": "7757e2ae-0769-429d-fd8f-2f46ae45bc31"
      },
      "outputs": [
        {
          "output_type": "display_data",
          "data": {
            "text/plain": [
              "<Figure size 432x288 with 1 Axes>"
            ],
            "image/png": "[encoded data removed]"
          },
          "metadata": {
            "needs_background": "light"
          }
        },
        {
          "output_type": "stream",
          "name": "stdout",
          "text": [
            "Selection sort constant (C): 1.3063329966926718e-07\n",
            "Quicksort constant (C): 3.2192954926570855e-07\n"
          ]
        }
      ],
      "source": [
        "# Hier kommen die Plots!\n",
        "# Generate points for the O(n^2) curve\n",
        "n_values = np.array(arrar_sizes)\n",
        "o_n2_values = n_values**2\n",
        "\n",
        "# Generate points for the O(n*log(n)) curve\n",
        "o_nlog_values = n_values*np.log(n_values)\n",
        "\n",
        "# Plot the measured running times and the asymptotic running time curves\n",
        "plt.plot(arrar_sizes, s_times, label=\"Selection sort (measured)\")\n",
        "plt.plot(arrar_sizes, o_n2_values, \"--\", label=\"Selection sort (O(n^2))\")\n",
        "plt.plot(arrar_sizes, q_times, label=\"Quicksort (measured)\")\n",
        "plt.plot(arrar_sizes, o_nlog_values, \"--\", label=\"Quicksort (O(n*log(n)))\")\n",
        "\n",
        "# Add axis labels and a title\n",
        "plt.xlabel(\"Input size\")\n",
        "plt.ylabel(\"Running time (seconds)\")\n",
        "plt.title(\"Running time of sorting algorithms\")\n",
        "\n",
        "# Add a legend\n",
        "plt.legend()\n",
        "\n",
        "# Show the plot\n",
        "plt.show()\n",
        "\n",
        "\n",
        "\n",
        "from scipy.optimize import curve_fit\n",
        "\n",
        "def o_n2(n, C):\n",
        "    return C*n**2\n",
        "\n",
        "def o_nlog(n, C):\n",
        "    return C*n*np.log(n)\n",
        "\n",
        "# Fit an O(n^2) curve to the selection sort running times\n",
        "params, params_covariance = curve_fit(o_n2, arrar_sizes, s_times)\n",
        "print(\"Selection sort constant (C):\", params[0])\n",
        "\n",
        "# Fit an O(n*log(n)) curve to the quicksort running times\n",
        "params, params_covariance = curve_fit(o_nlog, arrar_sizes, q_times)\n",
        "print(\"Quicksort constant (C):\", params[0])"
      ]
    },
    {
      "cell_type": "markdown",
      "metadata": {
        "id": "qtHWXQ5bIkaB"
      },
      "source": [
        "#### 8. Vergleichen Sie die Laufzeit ihrer effizienten Implementierungen mit der Laufzeit der nativen sort() Funktion für Listen in Python"
      ]
    },
    {
      "cell_type": "code",
      "execution_count": 30,
      "metadata": {
        "id": "jQJTZbCkIkaB"
      },
      "outputs": [],
      "source": [
        "# Hier kommt eure Laufzeitanalyse!\n"
      ]
    }
  ],
  "metadata": {
    "kernelspec": {
      "display_name": "Python 3 (ipykernel)",
      "language": "python",
      "name": "python3"
    },
    "language_info": {
      "codemirror_mode": {
        "name": "ipython",
        "version": 3
      },
      "file_extension": ".py",
      "mimetype": "text/x-python",
      "name": "python",
      "nbconvert_exporter": "python",
      "pygments_lexer": "ipython3",
      "version": "3.9.12"
    },
    "colab": {
      "provenance": [],
      "include_colab_link": true
    }
  },
  "nbformat": 4,
  "nbformat_minor": 0
}